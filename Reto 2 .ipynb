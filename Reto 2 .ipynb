{
 "cells": [
  {
   "cell_type": "code",
   "execution_count": 127,
   "id": "48bc23a0",
   "metadata": {},
   "outputs": [],
   "source": [
    "import numpy as np\n",
    "import pandas as pd\n",
    "import re\n",
    "import nltk\n",
    "import matplotlib.pyplot as plt\n",
    "import xlrd \n",
    "#Exportar el archivo \n",
    "import pickle\n",
    "\n",
    "%matplotlib inline"
   ]
  },
  {
   "cell_type": "code",
   "execution_count": 128,
   "id": "c8366170",
   "metadata": {},
   "outputs": [
    {
     "data": {
      "text/html": [
       "<div>\n",
       "<style scoped>\n",
       "    .dataframe tbody tr th:only-of-type {\n",
       "        vertical-align: middle;\n",
       "    }\n",
       "\n",
       "    .dataframe tbody tr th {\n",
       "        vertical-align: top;\n",
       "    }\n",
       "\n",
       "    .dataframe thead th {\n",
       "        text-align: right;\n",
       "    }\n",
       "</style>\n",
       "<table border=\"1\" class=\"dataframe\">\n",
       "  <thead>\n",
       "    <tr style=\"text-align: right;\">\n",
       "      <th></th>\n",
       "      <th>Title</th>\n",
       "      <th>Opinion</th>\n",
       "      <th>Polarity</th>\n",
       "      <th>Attraction</th>\n",
       "    </tr>\n",
       "  </thead>\n",
       "  <tbody>\n",
       "    <tr>\n",
       "      <th>0</th>\n",
       "      <td>Pésimo lugar</td>\n",
       "      <td>Piensen dos veces antes de ir a este hotel, te...</td>\n",
       "      <td>1.0</td>\n",
       "      <td>Hotel</td>\n",
       "    </tr>\n",
       "    <tr>\n",
       "      <th>1</th>\n",
       "      <td>No vayas a lugar de Eddie</td>\n",
       "      <td>Cuatro de nosotros fuimos recientemente a Eddi...</td>\n",
       "      <td>1.0</td>\n",
       "      <td>Restaurant</td>\n",
       "    </tr>\n",
       "    <tr>\n",
       "      <th>2</th>\n",
       "      <td>Mala relación calidad-precio</td>\n",
       "      <td>seguiré corta y simple: limpieza\\n- bad. Tengo...</td>\n",
       "      <td>1.0</td>\n",
       "      <td>Hotel</td>\n",
       "    </tr>\n",
       "    <tr>\n",
       "      <th>3</th>\n",
       "      <td>Minusválido? ¡No te alojes aquí!</td>\n",
       "      <td>Al reservar un hotel con multipropiedad Mayan ...</td>\n",
       "      <td>1.0</td>\n",
       "      <td>Hotel</td>\n",
       "    </tr>\n",
       "    <tr>\n",
       "      <th>4</th>\n",
       "      <td>Es una porqueria no pierdan su tiempo</td>\n",
       "      <td>No pierdan su tiempo ni dinero, venimos porque...</td>\n",
       "      <td>1.0</td>\n",
       "      <td>Hotel</td>\n",
       "    </tr>\n",
       "  </tbody>\n",
       "</table>\n",
       "</div>"
      ],
      "text/plain": [
       "                                   Title  \\\n",
       "0                           Pésimo lugar   \n",
       "1              No vayas a lugar de Eddie   \n",
       "2           Mala relación calidad-precio   \n",
       "3       Minusválido? ¡No te alojes aquí!   \n",
       "4  Es una porqueria no pierdan su tiempo   \n",
       "\n",
       "                                             Opinion  Polarity  Attraction  \n",
       "0  Piensen dos veces antes de ir a este hotel, te...       1.0       Hotel  \n",
       "1  Cuatro de nosotros fuimos recientemente a Eddi...       1.0  Restaurant  \n",
       "2  seguiré corta y simple: limpieza\\n- bad. Tengo...       1.0       Hotel  \n",
       "3  Al reservar un hotel con multipropiedad Mayan ...       1.0       Hotel  \n",
       "4  No pierdan su tiempo ni dinero, venimos porque...       1.0       Hotel  "
      ]
     },
     "execution_count": 128,
     "metadata": {},
     "output_type": "execute_result"
    }
   ],
   "source": [
    "import pandas as pd\n",
    "archivo = 'Train.xlsx'\n",
    "\n",
    "data = pd.read_excel(archivo)\n",
    "data.head()"
   ]
  },
  {
   "cell_type": "code",
   "execution_count": 168,
   "id": "4b8425bd",
   "metadata": {},
   "outputs": [],
   "source": [
    "features = data.iloc[:,1].values\n",
    "labels = data.iloc[:,3].values"
   ]
  },
  {
   "cell_type": "code",
   "execution_count": 169,
   "id": "45c1ca4c",
   "metadata": {},
   "outputs": [],
   "source": [
    "processed_features=[]\n",
    "for sentence in range(0, len(features)):\n",
    "    #remove all the especial characteres\n",
    "    processed_feature = re.sub(r'\\W',' ',str(features[sentence]))\n",
    "    \n",
    "    #Remove all single characters\n",
    "    processed_feature= re.sub(r'\\s+[a-zA-Z]\\s+',' ',processed_feature)\n",
    "    \n",
    "    #REMOVE SINGLE CHARACTERS FROM THE START\n",
    "    \n",
    "    processed_feature= re.sub(r'\\^[a-zA-Z]\\s+',' ',processed_feature)\n",
    "    \n",
    "    #SUBSTITUING MULTIPLE SPACES WITH SINGLE SPACE \n",
    "    processed_feature= re.sub(r'\\s+',' ',processed_feature, flags = re.I)\n",
    "    \n",
    "    #REMOVING PREFIXED 'b'\n",
    "    processed_feature= re.sub(r'^b\\s+',' ',processed_feature)\n",
    "    \n",
    "    #CONTERTING TO LOWERCASE\n",
    "    processed_feature = processed_feature.lower()\n",
    "    processed_features.append(processed_feature)"
   ]
  },
  {
   "cell_type": "code",
   "execution_count": 170,
   "id": "b5cb3b6c",
   "metadata": {},
   "outputs": [
    {
     "name": "stderr",
     "output_type": "stream",
     "text": [
      "[nltk_data] Downloading package stopwords to\n",
      "[nltk_data]     C:\\Users\\BRAYAN\\AppData\\Roaming\\nltk_data...\n",
      "[nltk_data]   Package stopwords is already up-to-date!\n"
     ]
    }
   ],
   "source": [
    "import nltk\n",
    "nltk.download('stopwords')\n",
    "from nltk.corpus import stopwords\n",
    "from sklearn.feature_extraction.text import TfidfVectorizer\n",
    "\n",
    "vectorizer = TfidfVectorizer (max_features=2500, min_df=7, max_df=0.8, stop_words=stopwords.words('spanish'))\n",
    "processed_features = vectorizer.fit_transform(processed_features).toarray()"
   ]
  },
  {
   "cell_type": "code",
   "execution_count": 171,
   "id": "82006ec0",
   "metadata": {},
   "outputs": [],
   "source": [
    "from sklearn.model_selection import train_test_split\n",
    "\n",
    "X_train, X_test , y_train , y_test = train_test_split(processed_features, labels , test_size=0.2, random_state=0)"
   ]
  },
  {
   "cell_type": "code",
   "execution_count": 172,
   "id": "64149b53",
   "metadata": {},
   "outputs": [
    {
     "data": {
      "text/plain": [
       "RandomForestClassifier(n_estimators=200, random_state=0)"
      ]
     },
     "execution_count": 172,
     "metadata": {},
     "output_type": "execute_result"
    }
   ],
   "source": [
    "from sklearn.ensemble import RandomForestClassifier\n",
    "\n",
    "text_classifier = RandomForestClassifier(n_estimators=200, random_state=0)\n",
    "text_classifier.fit(X_train, y_train)"
   ]
  },
  {
   "cell_type": "code",
   "execution_count": 174,
   "id": "2321cf9c",
   "metadata": {},
   "outputs": [],
   "source": [
    "predictions = text_classifier.predict(X_test)"
   ]
  },
  {
   "cell_type": "code",
   "execution_count": 175,
   "id": "54af93ce",
   "metadata": {},
   "outputs": [
    {
     "name": "stdout",
     "output_type": "stream",
     "text": [
      "[[ 983   13   29]\n",
      " [   6 3196   71]\n",
      " [  16   94 1634]]\n",
      "              precision    recall  f1-score   support\n",
      "\n",
      "  Attractive       0.98      0.96      0.97      1025\n",
      "       Hotel       0.97      0.98      0.97      3273\n",
      "  Restaurant       0.94      0.94      0.94      1744\n",
      "\n",
      "    accuracy                           0.96      6042\n",
      "   macro avg       0.96      0.96      0.96      6042\n",
      "weighted avg       0.96      0.96      0.96      6042\n",
      "\n",
      "0.9620986428334989\n"
     ]
    }
   ],
   "source": [
    "from sklearn.metrics import classification_report, confusion_matrix, accuracy_score\n",
    "\n",
    "print(confusion_matrix(y_test,predictions))\n",
    "print(classification_report(y_test,predictions)) \n",
    "print(accuracy_score(y_test, predictions))"
   ]
  },
  {
   "cell_type": "code",
   "execution_count": null,
   "id": "7c483db9",
   "metadata": {},
   "outputs": [],
   "source": [
    "# Con este modelo podemos identificar una precision de 96 % esta es muy alta y nos indica que es un modelo muy viable para utilizar con este tipo de datasets."
   ]
  },
  {
   "cell_type": "code",
   "execution_count": 176,
   "id": "9456d8ff",
   "metadata": {},
   "outputs": [],
   "source": [
    "#Support Vector Machines"
   ]
  },
  {
   "cell_type": "code",
   "execution_count": 177,
   "id": "54cb9f8f",
   "metadata": {},
   "outputs": [],
   "source": [
    "modelo = SVC(kernel='linear').fit(X_train, y_train)"
   ]
  },
  {
   "cell_type": "code",
   "execution_count": 178,
   "id": "96730c4e",
   "metadata": {},
   "outputs": [
    {
     "data": {
      "text/plain": [
       "array(['Hotel', 'Hotel', 'Restaurant', ..., 'Hotel', 'Restaurant',\n",
       "       'Restaurant'], dtype=object)"
      ]
     },
     "execution_count": 178,
     "metadata": {},
     "output_type": "execute_result"
    }
   ],
   "source": [
    "predicciones = modelo.predict(X_test)\n",
    "predicciones"
   ]
  },
  {
   "cell_type": "code",
   "execution_count": 179,
   "id": "227a0673",
   "metadata": {},
   "outputs": [
    {
     "name": "stdout",
     "output_type": "stream",
     "text": [
      "[[1004    3   18]\n",
      " [   7 3199   67]\n",
      " [   9   43 1692]]\n",
      "              precision    recall  f1-score   support\n",
      "\n",
      "  Attractive       0.98      0.98      0.98      1025\n",
      "       Hotel       0.99      0.98      0.98      3273\n",
      "  Restaurant       0.95      0.97      0.96      1744\n",
      "\n",
      "    accuracy                           0.98      6042\n",
      "   macro avg       0.97      0.98      0.97      6042\n",
      "weighted avg       0.98      0.98      0.98      6042\n",
      "\n",
      "0.9756703078450845\n"
     ]
    }
   ],
   "source": [
    "from sklearn.metrics import classification_report, confusion_matrix, accuracy_score\n",
    "\n",
    "print(confusion_matrix(y_test,predicciones))\n",
    "print(classification_report(y_test,predicciones)) \n",
    "print(accuracy_score(y_test, predicciones))\n",
    "svc_linear =accuracy_score(y_test, predicciones)"
   ]
  },
  {
   "cell_type": "code",
   "execution_count": null,
   "id": "6b66497a",
   "metadata": {},
   "outputs": [],
   "source": [
    "# Con este modelo Support Vector Machines podemos identificar una precision de 97 % esta es mucho mas  alta que la anterior y nos indica que es un modelo mucho mas  viable para utilizar con este tipo de datasets."
   ]
  },
  {
   "cell_type": "code",
   "execution_count": 180,
   "id": "3c7a4910",
   "metadata": {},
   "outputs": [],
   "source": [
    "#Decision Trees"
   ]
  },
  {
   "cell_type": "code",
   "execution_count": 181,
   "id": "479c66d1",
   "metadata": {},
   "outputs": [
    {
     "data": {
      "text/plain": [
       "array(['Hotel', 'Hotel', 'Hotel', ..., 'Hotel', 'Hotel', 'Restaurant'],\n",
       "      dtype=object)"
      ]
     },
     "execution_count": 181,
     "metadata": {},
     "output_type": "execute_result"
    }
   ],
   "source": [
    "from sklearn.tree import DecisionTreeClassifier\n",
    "tree_predic = DecisionTreeClassifier().fit(X_train, y_train).predict(X_test)\n",
    "tree_predic"
   ]
  },
  {
   "cell_type": "code",
   "execution_count": 182,
   "id": "4c44c71f",
   "metadata": {},
   "outputs": [
    {
     "name": "stdout",
     "output_type": "stream",
     "text": [
      "[[ 958   16   51]\n",
      " [  36 3015  222]\n",
      " [  36  223 1485]]\n",
      "              precision    recall  f1-score   support\n",
      "\n",
      "  Attractive       0.93      0.93      0.93      1025\n",
      "       Hotel       0.93      0.92      0.92      3273\n",
      "  Restaurant       0.84      0.85      0.85      1744\n",
      "\n",
      "    accuracy                           0.90      6042\n",
      "   macro avg       0.90      0.90      0.90      6042\n",
      "weighted avg       0.90      0.90      0.90      6042\n",
      "\n",
      "0.9033432638199271\n"
     ]
    }
   ],
   "source": [
    "from sklearn.metrics import classification_report, confusion_matrix, accuracy_score\n",
    "\n",
    "print(confusion_matrix(y_test,tree_predic))\n",
    "print(classification_report(y_test,tree_predic)) \n",
    "print(accuracy_score(y_test, tree_predic))\n",
    "tree_classifi =accuracy_score(y_test, tree_predic)"
   ]
  },
  {
   "cell_type": "code",
   "execution_count": null,
   "id": "e9c11766",
   "metadata": {},
   "outputs": [],
   "source": [
    "#Podemos identificar que el modelo Decision Trees es mucho menos efectivo que los otros dos con un 90 % de precision es muy bueno pero en comparacion con  Support Vector Machines decae un poco su recision. "
   ]
  },
  {
   "cell_type": "code",
   "execution_count": null,
   "id": "84f70e25",
   "metadata": {},
   "outputs": [],
   "source": [
    "#CONCLUSION : Podemos decir que Support Vector Machines es un modelo que nos ayuda a tener una precision mas viable para este tipo de datasets y el analisis de sus datos."
   ]
  }
 ],
 "metadata": {
  "kernelspec": {
   "display_name": "Python 3 (ipykernel)",
   "language": "python",
   "name": "python3"
  },
  "language_info": {
   "codemirror_mode": {
    "name": "ipython",
    "version": 3
   },
   "file_extension": ".py",
   "mimetype": "text/x-python",
   "name": "python",
   "nbconvert_exporter": "python",
   "pygments_lexer": "ipython3",
   "version": "3.9.12"
  }
 },
 "nbformat": 4,
 "nbformat_minor": 5
}
